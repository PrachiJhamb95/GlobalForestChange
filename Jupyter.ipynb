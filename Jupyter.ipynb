# 1. Authenticate and Initialize Google Earth Engine
import ee
import geemap
import pandas as pd
import numpy as np
import matplotlib.pyplot as plt
import os

# %matplotlib inline

# Authentication
ee.Authenticate()

# Initialize
ee.Initialize()

# 2. Load the Hansen Global Forest Change dataset (2023, v1.11)
hansenImage = ee.Image('UMD/hansen/global_forest_change_2023_v1_11')

# 3. Load GADM level 2 boundaries (districts) - Upload to GEE assets first
# Replace with your GADM level 2 asset path
gadmDistricts = ee.FeatureCollection("users/your_username/gadm41_level2")  # Adjust path

# 4. List of countries we’re interested in
countries = [
    "Ghana", "Guinea", "Liberia", "Malawi", "Nigeria",
    "Zimbabwe", "Uganda", "Egypt", "Zambia", "Ethiopia"
]

# 5. Function to process and summarize data for each district
def process_districts(country_name):
    # Filter districts for the specific country (adjust field name if needed, e.g., 'ADM0_NAME')
    countryDistricts = gadmDistricts.filter(ee.Filter.eq('ADM0_NAME', country_name))
    
    # Get the number of districts for progress tracking
    district_count = countryDistricts.size().getInfo()
    print(f"Processing {country_name} with {district_count} districts...")
    
    deforestation_df = pd.DataFrame()
    treecover_df = pd.DataFrame()
    
    # Loop over each district
    districts = countryDistricts.getInfo()['features']
    for district in districts:
        district_geom = ee.Geometry(district['geometry'])
        district_name = district['properties']['NAME_2']  # Adjust based on GADM field name
        
        # Clip Hansen data to the district
        forestProducts = hansenImage.select(['treecover2000', 'lossyear']).clip(district_geom)
        
        # Calculate tree cover area (treecover2000) in hectares
        pixel_area_m2 = 30 * 30  # 30m * 30m = 900 m² per pixel
        hectares_per_pixel = pixel_area_m2 / 10000  # 1 ha = 10,000 m²
        
        tree_cover_stats = forestProducts.select('treecover2000').reduceRegion(
            reducer=ee.Reducer.sum(),
            geometry=district_geom,
            scale=30,
            maxPixels=1e13
        )
        
        treecover_ha = ee.Number(tree_cover_stats.get('treecover2000')).multiply(hectares_per_pixel).getInfo() or 0
        
        # Calculate deforestation area for each year (2001–2023)
        loss_years = range(1, 24)  # Values 1–23 for 2001–2023
        lossyear_areas = []
        for year in loss_years:
            loss_mask = forestProducts.select('lossyear').eq(ee.Number(year))
            loss_area = forestProducts.select('lossyear').updateMask(loss_mask).reduceRegion(
                reducer=ee.Reducer.count(),
                geometry=district_geom,
                scale=30,
                maxPixels=1e13
            )
            area_ha = ee.Number(loss_area.get('count')).multiply(hectares_per_pixel).getInfo() or 0
            lossyear_areas.append(area_ha)
        
        # Store results
        treecover_df = pd.concat([treecover_df, pd.DataFrame({
            "Country": [country_name],
            "District": [district_name],
            "TreeCover2000_ha": [treecover_ha]
        })], ignore_index=True)
        
        year_df = pd.DataFrame({
            "Country": [country_name] * 23,
            "District": [district_name] * 23,
            "Year": list(range(2001, 2024)),
            "Deforestation_Area_ha": lossyear_areas
        })
        deforestation_df = pd.concat([deforestation_df, year_df], ignore_index=True)
    
    return deforestation_df, treecover_df

# 6. Process each country and save results
for country_name in countries:
    deforestation_df, treecover_df = process_districts(country_name)
    
    # Save results to CSV
    if not deforestation_df.empty:
        deforestation_df.to_csv(f"Deforestation_by_District_{country_name}.csv", index=False)
    if not treecover_df.empty:
        treecover_df.to_csv(f"TreeCover2000_by_District_{country_name}.csv", index=False)

# 7. Combine all country results (optional)
all_deforestation = pd.DataFrame()
all_treecover = pd.DataFrame()

for country_name in countries:
    def_df = pd.read_csv(f"Deforestation_by_District_{country_name}.csv")
    tre_df = pd.read_csv(f"TreeCover2000_by_District_{country_name}.csv")
    all_deforestation = pd.concat([all_deforestation, def_df], ignore_index=True)
    all_treecover = pd.concat([all_treecover, tre_df], ignore_index=True)

# Save combined results
all_deforestation.to_csv("Deforestation_by_District_all.csv", index=False)
all_treecover.to_csv("TreeCover2000_by_District_all.csv", index=False)

# 8. Optional: Visualize cumulative loss for a country
if "Zambia" in countries:
    zambia_deforestation = all_deforestation[all_deforestation["Country"] == "Zambia"]
    zambia_treecover = all_treecover[all_treecover["Country"] == "Zambia"]
    
    # Pivot to get loss by year for each district, then sum
    loss_by_year = zambia_deforestation.groupby('Year')['Deforestation_Area_ha'].sum().reset_index()
    loss_by_year['Cumulative_Loss_ha'] = loss_by_year['Deforestation_Area_ha'].cumsum()
    
    # Plot
    plt.figure(figsize=(10, 6), dpi=300)
    loss_by_year['Cumulative_Loss_ha'].plot(label='Zambia Cumulative Forest Loss', color='#00FF00')
    plt.title('Accumulative Forest Loss (ha) in Zambia from 2000')
    plt.xlabel('Number of Years Since 2000')
    plt.ylabel('Accumulative Forest Loss from 2000 (ha)')
    plt.legend()
    plt.show()
